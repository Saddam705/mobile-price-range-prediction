{
  "nbformat": 4,
  "nbformat_minor": 0,
  "metadata": {
    "colab": {
      "provenance": [],
      "collapsed_sections": [],
      "authorship_tag": "ABX9TyMWyhc4z7M5dCboI4/d8ohY",
      "include_colab_link": true
    },
    "kernelspec": {
      "name": "python3",
      "display_name": "Python 3"
    },
    "language_info": {
      "name": "python"
    }
  },
  "cells": [
    {
      "cell_type": "markdown",
      "metadata": {
        "id": "view-in-github",
        "colab_type": "text"
      },
      "source": [
        "<a href=\"https://colab.research.google.com/github/Saddam705/mobile-price-range-prediction/blob/main/mobile_price_prediction.ipynb\" target=\"_parent\"><img src=\"https://colab.research.google.com/assets/colab-badge.svg\" alt=\"Open In Colab\"/></a>"
      ]
    },
    {
      "cell_type": "markdown",
      "source": [
        "\n",
        "#mobile price range prediction"
      ],
      "metadata": {
        "id": "e4pGl113eh7M"
      }
    },
    {
      "cell_type": "markdown",
      "source": [
        "A mobile phone, cell phone, cellphone, or hand phone, sometimes shortened to simply mobile, cell or just phone, is a portable telephone that can make and receive calls over a radio frequency link while the user is moving within a telephone service area.\n",
        "\n",
        "The first handheld mobile phone was demonstrated by John F. Mitchell and Martin Cooper of Motorola in 1973, using a handset weighing c. 2 kilograms (4.4 lbs).\n",
        "\n",
        "In 1979, Nippon Telegraph and Telephone (NTT) launched the world's first cellular network in Japan. In 1983, the DynaTAC 8000x was the first commercially available handheld mobile phone. From 1983 to 2014, worldwide mobile phone subscriptions grew to over seven billion—enough to provide one for every person on Earth.\n",
        "\n",
        "In first quarter of 2016, the top smartphone developers worldwide were Samsung, Apple, and Huawei, and smartphone sales represented 78 percent of total mobile phone sales. For feature phones (or \"dumbphones\") as of 2016, the largest were Samsung, Nokia, and Alcatel."
      ],
      "metadata": {
        "id": "miVANki8eO5x"
      }
    },
    {
      "cell_type": "markdown",
      "source": [
        "##Dataset as 21 features and 2000 entries. The meanings of the features are given below.\n",
        "\n",
        "*  battery_power: Total energy a battery can store in one time measured in mAh\n",
        "*  blue: Has bluetooth or not\n",
        "*  clock_speed: speed at which microprocessor executes instructions\n",
        "*  dual_sim: Has dual sim support or not\n",
        "*  fc: Front Camera mega pixels\n",
        "*  four_g: Has 4G or not\n",
        "*  int_memory: Internal Memory in Gigabytes\n",
        "*  m_dep: Mobile Depth in cm\n",
        "*  mobile_wt: Weight of mobile phone\n",
        "*  n_cores: Number of cores of processor\n",
        "*  pc: Primary Camera mega pixels\n",
        "*  px_height: Pixel Resolution Height\n",
        "*  px_width: Pixel Resolution Width\n",
        "*  ram: Random Access Memory in Mega Byte\n",
        "*  sc_h: Screen Height of mobile in cm\n",
        "*  sc_w: Screen Width of mobile in cm\n",
        "*  talk_time: longest time that a single battery charge will last when you are\n",
        "three_g: Has 3G or not\n",
        "*  touch_screen: Has touch screen or not\n",
        "*  wifi: Has wifi or not\n",
        "*  price_range: This is the target variable with value of 0(low cost), 1(medium cost), 2(high cost) and 3(very high cost)."
      ],
      "metadata": {
        "id": "LgdjwbhFgaTA"
      }
    },
    {
      "cell_type": "code",
      "source": [],
      "metadata": {
        "id": "j-BrNw3weBu6"
      },
      "execution_count": null,
      "outputs": []
    },
    {
      "cell_type": "code",
      "source": [],
      "metadata": {
        "id": "UqWYtkYWeBwL"
      },
      "execution_count": null,
      "outputs": []
    },
    {
      "cell_type": "code",
      "source": [],
      "metadata": {
        "id": "-2LYTAOreB6v"
      },
      "execution_count": null,
      "outputs": []
    },
    {
      "cell_type": "code",
      "source": [],
      "metadata": {
        "id": "563RpRQWeB8B"
      },
      "execution_count": null,
      "outputs": []
    },
    {
      "cell_type": "code",
      "source": [],
      "metadata": {
        "id": "6oS-1C38eCAk"
      },
      "execution_count": null,
      "outputs": []
    }
  ]
}